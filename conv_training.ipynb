{
  "cells": [
    {
      "cell_type": "markdown",
      "metadata": {
        "id": "GC9XOaANKr6l"
      },
      "source": [
        "# **Moduł treningu sieci konwolucyjnej**"
      ]
    },
    {
      "cell_type": "markdown",
      "metadata": {
        "id": "L5Waj4c2Mj2e"
      },
      "source": [
        "## Przygotowanie bibliotek i narzędzi"
      ]
    },
    {
      "cell_type": "markdown",
      "metadata": {
        "id": "iTISxlXfK2A4"
      },
      "source": [
        "### Import potrzebnych bibliotek do treningu"
      ]
    },
    {
      "cell_type": "markdown",
      "metadata": {
        "id": "hIY10XqzLOHq"
      },
      "source": [
        "Trening zostanie wykonany w oparciu o bibliotekę *tensorflow* oraz *keras*. Wyświetlanie statystyk zrealizowano przy pomocy biblioteki *matplotlib*."
      ]
    },
    {
      "cell_type": "code",
      "execution_count": null,
      "metadata": {
        "id": "7hLYpHtR402R"
      },
      "outputs": [],
      "source": [
        "import tensorflow as tf\n",
        "from tensorflow.keras import datasets, layers\n",
        "import tensorflow_datasets as tfds\n",
        "from tensorflow.keras.models import Sequential\n",
        "from keras.preprocessing.image import ImageDataGenerator\n",
        "from tensorflow.keras.layers import Dense, Conv2D, MaxPooling2D, Flatten, Dropout, Softmax, Input, BatchNormalization\n",
        "from tensorflow.keras import Model\n",
        "\n",
        "import random\n",
        "import matplotlib.pyplot as plt\n",
        "import numpy as np\n",
        "import os\n",
        "\n",
        "from IPython.display import clear_output"
      ]
    },
    {
      "cell_type": "markdown",
      "metadata": {
        "id": "KiV-oEBBMFcG"
      },
      "source": [
        "### Uruchomienie TPU"
      ]
    },
    {
      "cell_type": "markdown",
      "metadata": {
        "id": "jaUptP_tMMMT"
      },
      "source": [
        "Krok ten nie jest wymagany, jednak rekomendowany jeśli jest taka możliwość. Użycie TPU znacząco skraca czas trwania przeprowadzanego treningu."
      ]
    },
    {
      "cell_type": "code",
      "execution_count": null,
      "metadata": {
        "colab": {
          "base_uri": "https://localhost:8080/"
        },
        "id": "FpvUOuC3j27n",
        "outputId": "729082da-fd1d-40c6-e4fa-2c798b2892fa"
      },
      "outputs": [
        {
          "name": "stdout",
          "output_type": "stream",
          "text": [
            "Tensorflow version 2.7.0\n",
            "Running on TPU  ['10.113.219.66:8470']\n",
            "INFO:tensorflow:Deallocate tpu buffers before initializing tpu system.\n"
          ]
        },
        {
          "name": "stderr",
          "output_type": "stream",
          "text": [
            "INFO:tensorflow:Deallocate tpu buffers before initializing tpu system.\n"
          ]
        },
        {
          "name": "stdout",
          "output_type": "stream",
          "text": [
            "INFO:tensorflow:Initializing the TPU system: grpc://10.113.219.66:8470\n"
          ]
        },
        {
          "name": "stderr",
          "output_type": "stream",
          "text": [
            "INFO:tensorflow:Initializing the TPU system: grpc://10.113.219.66:8470\n"
          ]
        },
        {
          "name": "stdout",
          "output_type": "stream",
          "text": [
            "INFO:tensorflow:Finished initializing TPU system.\n"
          ]
        },
        {
          "name": "stderr",
          "output_type": "stream",
          "text": [
            "INFO:tensorflow:Finished initializing TPU system.\n",
            "WARNING:absl:`tf.distribute.experimental.TPUStrategy` is deprecated, please use  the non experimental symbol `tf.distribute.TPUStrategy` instead.\n"
          ]
        },
        {
          "name": "stdout",
          "output_type": "stream",
          "text": [
            "INFO:tensorflow:Found TPU system:\n"
          ]
        },
        {
          "name": "stderr",
          "output_type": "stream",
          "text": [
            "INFO:tensorflow:Found TPU system:\n"
          ]
        },
        {
          "name": "stdout",
          "output_type": "stream",
          "text": [
            "INFO:tensorflow:*** Num TPU Cores: 8\n"
          ]
        },
        {
          "name": "stderr",
          "output_type": "stream",
          "text": [
            "INFO:tensorflow:*** Num TPU Cores: 8\n"
          ]
        },
        {
          "name": "stdout",
          "output_type": "stream",
          "text": [
            "INFO:tensorflow:*** Num TPU Workers: 1\n"
          ]
        },
        {
          "name": "stderr",
          "output_type": "stream",
          "text": [
            "INFO:tensorflow:*** Num TPU Workers: 1\n"
          ]
        },
        {
          "name": "stdout",
          "output_type": "stream",
          "text": [
            "INFO:tensorflow:*** Num TPU Cores Per Worker: 8\n"
          ]
        },
        {
          "name": "stderr",
          "output_type": "stream",
          "text": [
            "INFO:tensorflow:*** Num TPU Cores Per Worker: 8\n"
          ]
        },
        {
          "name": "stdout",
          "output_type": "stream",
          "text": [
            "INFO:tensorflow:*** Available Device: _DeviceAttributes(/job:localhost/replica:0/task:0/device:CPU:0, CPU, 0, 0)\n"
          ]
        },
        {
          "name": "stderr",
          "output_type": "stream",
          "text": [
            "INFO:tensorflow:*** Available Device: _DeviceAttributes(/job:localhost/replica:0/task:0/device:CPU:0, CPU, 0, 0)\n"
          ]
        },
        {
          "name": "stdout",
          "output_type": "stream",
          "text": [
            "INFO:tensorflow:*** Available Device: _DeviceAttributes(/job:worker/replica:0/task:0/device:CPU:0, CPU, 0, 0)\n"
          ]
        },
        {
          "name": "stderr",
          "output_type": "stream",
          "text": [
            "INFO:tensorflow:*** Available Device: _DeviceAttributes(/job:worker/replica:0/task:0/device:CPU:0, CPU, 0, 0)\n"
          ]
        },
        {
          "name": "stdout",
          "output_type": "stream",
          "text": [
            "INFO:tensorflow:*** Available Device: _DeviceAttributes(/job:worker/replica:0/task:0/device:TPU:0, TPU, 0, 0)\n"
          ]
        },
        {
          "name": "stderr",
          "output_type": "stream",
          "text": [
            "INFO:tensorflow:*** Available Device: _DeviceAttributes(/job:worker/replica:0/task:0/device:TPU:0, TPU, 0, 0)\n"
          ]
        },
        {
          "name": "stdout",
          "output_type": "stream",
          "text": [
            "INFO:tensorflow:*** Available Device: _DeviceAttributes(/job:worker/replica:0/task:0/device:TPU:1, TPU, 0, 0)\n"
          ]
        },
        {
          "name": "stderr",
          "output_type": "stream",
          "text": [
            "INFO:tensorflow:*** Available Device: _DeviceAttributes(/job:worker/replica:0/task:0/device:TPU:1, TPU, 0, 0)\n"
          ]
        },
        {
          "name": "stdout",
          "output_type": "stream",
          "text": [
            "INFO:tensorflow:*** Available Device: _DeviceAttributes(/job:worker/replica:0/task:0/device:TPU:2, TPU, 0, 0)\n"
          ]
        },
        {
          "name": "stderr",
          "output_type": "stream",
          "text": [
            "INFO:tensorflow:*** Available Device: _DeviceAttributes(/job:worker/replica:0/task:0/device:TPU:2, TPU, 0, 0)\n"
          ]
        },
        {
          "name": "stdout",
          "output_type": "stream",
          "text": [
            "INFO:tensorflow:*** Available Device: _DeviceAttributes(/job:worker/replica:0/task:0/device:TPU:3, TPU, 0, 0)\n"
          ]
        },
        {
          "name": "stderr",
          "output_type": "stream",
          "text": [
            "INFO:tensorflow:*** Available Device: _DeviceAttributes(/job:worker/replica:0/task:0/device:TPU:3, TPU, 0, 0)\n"
          ]
        },
        {
          "name": "stdout",
          "output_type": "stream",
          "text": [
            "INFO:tensorflow:*** Available Device: _DeviceAttributes(/job:worker/replica:0/task:0/device:TPU:4, TPU, 0, 0)\n"
          ]
        },
        {
          "name": "stderr",
          "output_type": "stream",
          "text": [
            "INFO:tensorflow:*** Available Device: _DeviceAttributes(/job:worker/replica:0/task:0/device:TPU:4, TPU, 0, 0)\n"
          ]
        },
        {
          "name": "stdout",
          "output_type": "stream",
          "text": [
            "INFO:tensorflow:*** Available Device: _DeviceAttributes(/job:worker/replica:0/task:0/device:TPU:5, TPU, 0, 0)\n"
          ]
        },
        {
          "name": "stderr",
          "output_type": "stream",
          "text": [
            "INFO:tensorflow:*** Available Device: _DeviceAttributes(/job:worker/replica:0/task:0/device:TPU:5, TPU, 0, 0)\n"
          ]
        },
        {
          "name": "stdout",
          "output_type": "stream",
          "text": [
            "INFO:tensorflow:*** Available Device: _DeviceAttributes(/job:worker/replica:0/task:0/device:TPU:6, TPU, 0, 0)\n"
          ]
        },
        {
          "name": "stderr",
          "output_type": "stream",
          "text": [
            "INFO:tensorflow:*** Available Device: _DeviceAttributes(/job:worker/replica:0/task:0/device:TPU:6, TPU, 0, 0)\n"
          ]
        },
        {
          "name": "stdout",
          "output_type": "stream",
          "text": [
            "INFO:tensorflow:*** Available Device: _DeviceAttributes(/job:worker/replica:0/task:0/device:TPU:7, TPU, 0, 0)\n"
          ]
        },
        {
          "name": "stderr",
          "output_type": "stream",
          "text": [
            "INFO:tensorflow:*** Available Device: _DeviceAttributes(/job:worker/replica:0/task:0/device:TPU:7, TPU, 0, 0)\n"
          ]
        },
        {
          "name": "stdout",
          "output_type": "stream",
          "text": [
            "INFO:tensorflow:*** Available Device: _DeviceAttributes(/job:worker/replica:0/task:0/device:TPU_SYSTEM:0, TPU_SYSTEM, 0, 0)\n"
          ]
        },
        {
          "name": "stderr",
          "output_type": "stream",
          "text": [
            "INFO:tensorflow:*** Available Device: _DeviceAttributes(/job:worker/replica:0/task:0/device:TPU_SYSTEM:0, TPU_SYSTEM, 0, 0)\n"
          ]
        },
        {
          "name": "stdout",
          "output_type": "stream",
          "text": [
            "INFO:tensorflow:*** Available Device: _DeviceAttributes(/job:worker/replica:0/task:0/device:XLA_CPU:0, XLA_CPU, 0, 0)\n"
          ]
        },
        {
          "name": "stderr",
          "output_type": "stream",
          "text": [
            "INFO:tensorflow:*** Available Device: _DeviceAttributes(/job:worker/replica:0/task:0/device:XLA_CPU:0, XLA_CPU, 0, 0)\n"
          ]
        }
      ],
      "source": [
        "import tensorflow as tf\n",
        "print(\"Tensorflow version \" + tf.__version__)\n",
        "\n",
        "try:\n",
        "  tpu = tf.distribute.cluster_resolver.TPUClusterResolver()  # TPU detection\n",
        "  print('Running on TPU ', tpu.cluster_spec().as_dict()['worker'])\n",
        "except ValueError:\n",
        "  raise BaseException('ERROR: Not connected to a TPU runtime; please see the previous cell in this notebook for instructions!')\n",
        "\n",
        "tf.config.experimental_connect_to_cluster(tpu)\n",
        "tf.tpu.experimental.initialize_tpu_system(tpu)\n",
        "tpu_strategy = tf.distribute.experimental.TPUStrategy(tpu)"
      ]
    },
    {
      "cell_type": "markdown",
      "metadata": {
        "id": "yBpU_uFAMnoZ"
      },
      "source": [
        "### Łączenie z dyskiem google drive"
      ]
    },
    {
      "cell_type": "markdown",
      "metadata": {
        "id": "R8az7m9RMspp"
      },
      "source": [
        "Użycie dysku w podany poniżej sposób jest tylko możliwe podczas korzystania z Google Colaba. \n",
        "\n",
        "**Wymagana akcja użytkownika!**"
      ]
    },
    {
      "cell_type": "code",
      "execution_count": null,
      "metadata": {
        "colab": {
          "base_uri": "https://localhost:8080/"
        },
        "id": "TQTbX8G2lmv4",
        "outputId": "e357f578-5bae-4d1f-d7fe-09223a2e7f12"
      },
      "outputs": [
        {
          "name": "stdout",
          "output_type": "stream",
          "text": [
            "Mounted at /content/drive\n"
          ]
        }
      ],
      "source": [
        "from google.colab import drive\n",
        "drive.mount(\"/content/drive\")"
      ]
    },
    {
      "cell_type": "code",
      "execution_count": null,
      "metadata": {
        "colab": {
          "base_uri": "https://localhost:8080/"
        },
        "id": "n8fNMZu1lsLB",
        "outputId": "d181cfa0-8f23-48a7-89c0-9a588d3b9442"
      },
      "outputs": [
        {
          "name": "stdout",
          "output_type": "stream",
          "text": [
            " best_mnist.h5\t    DomkaMNISTDomka.zip   mnist_v2.h5   results\n",
            " BestMnist.zip\t    mnist_98.h5\t\t  models        test_data\n",
            "'Colab Notebooks'   mnist_noau.h5\t  MyMnist.zip\n"
          ]
        }
      ],
      "source": [
        "!ls \"/content/drive/MyDrive\""
      ]
    },
    {
      "cell_type": "markdown",
      "metadata": {
        "id": "ikFW3FRzt2TZ"
      },
      "source": [
        "## Przygotowanie do treningu"
      ]
    },
    {
      "cell_type": "markdown",
      "metadata": {
        "id": "Oml8036_Nbql"
      },
      "source": [
        "### Parametry do treningu"
      ]
    },
    {
      "cell_type": "markdown",
      "metadata": {
        "id": "-i6JprUcNfip"
      },
      "source": [
        "Ta komórka zawiera parametry możliwe do modyfikacji przez użytkownika. Należą do nich:\n",
        "\n",
        "1.   BATCH_SIZE - rozmiar podzbiorów zbioru treningowego powstałych w wyniku podziału,\n",
        "2.   EPOCHS - liczba iteracji zbioru trenigowego przez sieć,\n",
        "3.   IMG_SIZE - rozmiar obrazu wejściowego sieci (testowano na rozmiarze max 227x227).\n",
        "\n"
      ]
    },
    {
      "cell_type": "code",
      "execution_count": null,
      "metadata": {
        "id": "YyrdOH8kt106"
      },
      "outputs": [],
      "source": [
        "BATCH_SIZE = 32\n",
        "EPOCHS = 25\n",
        "IMG_SIZE = 224\n",
        "LEARNING_RATE = 0.001\n",
        "\n",
        "OUTPUT_PATH = \"/content/drive/MyDrive/models/\""
      ]
    },
    {
      "cell_type": "markdown",
      "metadata": {
        "id": "sn4IK-pVkHHh"
      },
      "source": [
        "### Przygotowanie zbioru danych do treningu"
      ]
    },
    {
      "cell_type": "markdown",
      "metadata": {
        "id": "xKMAbJ8bPIwn"
      },
      "source": [
        "Jako zbioru danych użyto prostego zbioru CIFAR 10, składającego się z 60000 różnych zdjęć o wymiarze 32x32 podzielonych na 10 różnych klas, reprezentujących różne obiekty. \n",
        "\n",
        "Zbiór podzielono na 3 części:\n",
        "\n",
        "*   zbiór treningowy - 42 tys. zdjęć,\n",
        "*   zbiór walidacyjny - 8 tys. zdjęć,\n",
        "*   zbiór testowy - 10 tys. zdjęć.\n",
        "\n",
        "Zbiór testowy, walidacyjny i treningowe są od siebie niezależne.\n",
        "\n"
      ]
    },
    {
      "cell_type": "code",
      "execution_count": null,
      "metadata": {
        "colab": {
          "base_uri": "https://localhost:8080/"
        },
        "id": "FCZFz3bh43ma",
        "outputId": "f05e1126-d8de-46e5-bbb8-03fb10099939"
      },
      "outputs": [
        {
          "name": "stdout",
          "output_type": "stream",
          "text": [
            "(32, 32, 3)\n"
          ]
        }
      ],
      "source": [
        "(train_set, train_labels), (test_set, test_labels) = datasets.cifar10.load_data()\n",
        "validation_set, validation_labels = train_set[:8000], train_labels[:8000]\n",
        "train_set, train_labels = train_set[8000:], train_labels[8000:]\n",
        "\n",
        "print(train_set[0].shape)"
      ]
    },
    {
      "cell_type": "markdown",
      "metadata": {
        "id": "DfU65xabkLfb"
      },
      "source": [
        "### Normalizacja i augmentacja\n",
        "\n"
      ]
    },
    {
      "cell_type": "markdown",
      "metadata": {
        "id": "Xi_EZq90QUcl"
      },
      "source": [
        "Augmentacja składa się z losowego odbicia pionowego i poziomego."
      ]
    },
    {
      "cell_type": "code",
      "execution_count": null,
      "metadata": {
        "id": "nkieXCBggxkT"
      },
      "outputs": [],
      "source": [
        "augmentation = Sequential([\n",
        "  layers.RandomFlip(\"horizontal_and_vertical\"),\n",
        "  layers.RandomRotation(0.2)                          \n",
        "])"
      ]
    },
    {
      "cell_type": "code",
      "execution_count": null,
      "metadata": {
        "id": "G_debgQwgXaJ"
      },
      "outputs": [],
      "source": [
        "def standardization(image):\n",
        "  # Normalize images to have a mean of 0 and standard deviation of 1\n",
        "  image = tf.image.per_image_standardization(image)\n",
        "  return image"
      ]
    },
    {
      "cell_type": "code",
      "execution_count": null,
      "metadata": {
        "id": "aBA7y7EO1s-8"
      },
      "outputs": [],
      "source": [
        "def augment_dataset(dataset):\n",
        "  return dataset.map(lambda x, y: (augmentation(x), y)) "
      ]
    },
    {
      "cell_type": "code",
      "execution_count": null,
      "metadata": {
        "id": "nYhkitdw1CQO"
      },
      "outputs": [],
      "source": [
        "def prepare_datasets():\n",
        "  size = len(train_set) // 5\n",
        "  train_ds = tf.data.Dataset.from_tensor_slices((train_set, train_labels))\n",
        "  test_ds = tf.data.Dataset.from_tensor_slices((test_set, test_labels))\n",
        "  validation_ds = tf.data.Dataset.from_tensor_slices((validation_set, validation_labels))\n",
        "\n",
        "  train_ds = (train_ds.map(lambda x, y: (standardization(x), y))\n",
        "                  .shuffle(size)\n",
        "                  .batch(batch_size=BATCH_SIZE, drop_remainder=True))\n",
        "  test_ds = (test_ds.map(lambda x, y: (standardization(x), y))\n",
        "                    .batch(batch_size=BATCH_SIZE, drop_remainder=True))\n",
        "  validation_ds = (validation_ds.map(lambda x, y: (standardization(x), y))\n",
        "                    .shuffle(size)\n",
        "                    .batch(batch_size=BATCH_SIZE, drop_remainder=True))\n",
        "  \n",
        "  return train_ds, test_ds, validation_ds\n",
        "    "
      ]
    },
    {
      "cell_type": "markdown",
      "metadata": {
        "id": "OxjF8ymhkPGt"
      },
      "source": [
        "### Przygotowanie modelu"
      ]
    },
    {
      "cell_type": "markdown",
      "metadata": {
        "id": "fK11aqVGVCKp"
      },
      "source": [
        "Poniżej przedstawiono dwie propozycje modeli:\n",
        "\n",
        "*   model sieci bazujący na architekturze zaproponowanej przez autora - *myConv*,\n",
        "*   model sieci bazujący na architekturze *AlexNet*.\n",
        "\n"
      ]
    },
    {
      "cell_type": "markdown",
      "metadata": {
        "id": "whubiS6vVUwr"
      },
      "source": [
        "Istnieje możliwość dodania własnego modelu. W tym celu należy stworzyć nową komórkę z kodem i zdefiniować tam funkcję zwracającą nowy model. Istnieje jedno ograniczenie, zaprojektowana sieć musi zawierać warstwę, w której automatycznie zostanie dokonana modyfikacja rozmiaru zdjęcia na co najmniej 224x224 (warstwa *preprocess*)."
      ]
    },
    {
      "cell_type": "code",
      "execution_count": null,
      "metadata": {
        "id": "Brxccuy9ZyKE"
      },
      "outputs": [],
      "source": [
        "def get_myConv():\n",
        "  # myNet\n",
        "  model = tf.keras.models.Sequential(name=\"MyOwnConv\")\n",
        "  input = Input(shape=(None, None, 3))\n",
        "  preprocess = tf.keras.layers.Resizing(224, 224, interpolation=\"bilinear\", crop_to_aspect_ratio=False)\n",
        "  conv1 = Conv2D(224, (5,5), strides=(3,3), activation=\"relu\", name=\"conv1\")\n",
        "  pool1 = MaxPooling2D((2, 2), strides=(2,2), name=\"pool1\")\n",
        "  conv2 = Conv2D(122, (3,3), activation=\"relu\", name=\"conv2\")\n",
        "  pool2 = MaxPooling2D((5, 5), strides=(2,2), padding=\"same\", name=\"pool2\")\n",
        "  conv3 = Conv2D(56, (3,3), activation=\"relu\", name=\"conv3\")\n",
        "  conv4 = Conv2D(28, (5,5), activation=\"relu\", name=\"conv4\")\n",
        "  pool3 = MaxPooling2D((2, 2), strides=(2,2), name=\"pool4\")\n",
        "  flatten = Flatten()\n",
        "  dense1 = Dense(64, activation=\"relu\")\n",
        "  drop1 = Dropout(0.25)\n",
        "  dense2 = Dense(10, activation=\"softmax\")\n",
        "\n",
        "  model.add(input)\n",
        "  model.add(preprocess)\n",
        "  model.add(conv1)\n",
        "  model.add(pool1)\n",
        "  model.add(conv2)\n",
        "  model.add(pool2)\n",
        "  model.add(conv3)\n",
        "  model.add(conv4)\n",
        "  model.add(pool3)\n",
        "  model.add(flatten)\n",
        "  model.add(dense1)\n",
        "  model.add(drop1)\n",
        "  model.add(dense2)\n",
        "\n",
        "  return model"
      ]
    },
    {
      "cell_type": "code",
      "execution_count": null,
      "metadata": {
        "id": "WA9rydLVrJoG"
      },
      "outputs": [],
      "source": [
        "def get_alexNet():\n",
        "  # alexNet\n",
        "  model = tf.keras.models.Sequential(name=\"MyConv\")\n",
        "  input = Input(shape=(None, None, 3))\n",
        "  preprocess = tf.keras.layers.Resizing(227, 227, interpolation=\"bilinear\", crop_to_aspect_ratio=False)\n",
        "  conv1 = Conv2D(filters=96, kernel_size=(11,11), strides=(4, 4), activation=\"relu\", name=\"conv1\")\n",
        "  bad_batch1 = BatchNormalization()\n",
        "  pool1 = MaxPooling2D(pool_size=(3, 3), strides=(2, 2), name=\"pool1\")\n",
        "  conv2 = Conv2D(filters=256, kernel_size=(5,5), padding=\"same\", activation=\"relu\", name=\"conv2\")\n",
        "  bad_batch2 = BatchNormalization()\n",
        "  pool2 = MaxPooling2D(pool_size=(3, 3), strides=(2, 2), name=\"pool2\")\n",
        "  conv3 = Conv2D(filters=384, kernel_size=(3,3), activation='relu', padding=\"same\", name=\"conv3\")\n",
        "  bad_batch3 = BatchNormalization()\n",
        "  conv4 = Conv2D(filters=384, kernel_size=(3,3), activation='relu', padding=\"same\", name=\"conv4\")\n",
        "  bad_batch4 = BatchNormalization()\n",
        "  conv5 = Conv2D(filters=256, kernel_size=(3,3), activation='relu', padding=\"same\", name=\"conv5\")\n",
        "  bad_batch5 = BatchNormalization()\n",
        "  pool3 = MaxPooling2D(pool_size=(3, 3), strides=(2,2), name=\"pool3\")\n",
        "  flatten = Flatten()\n",
        "  dense1 = Dense(4096, activation='relu')\n",
        "  drop1 = Dropout(0.5)\n",
        "  dense2 = Dense(4096, activation='relu')\n",
        "  drop2 = Dropout(0.5)\n",
        "  output = Dense(10, activation='softmax')\n",
        "\n",
        "  model.add(input)\n",
        "  model.add(preprocess)\n",
        "  model.add(conv1)\n",
        "  model.add(bad_batch1)\n",
        "  model.add(pool1)\n",
        "  model.add(conv2)\n",
        "  model.add(bad_batch2)\n",
        "  model.add(pool2)\n",
        "  model.add(conv3)\n",
        "  model.add(bad_batch3)\n",
        "  model.add(conv4)\n",
        "  model.add(bad_batch4)\n",
        "  model.add(conv5)\n",
        "  model.add(bad_batch5)\n",
        "  model.add(pool3)\n",
        "  model.add(flatten)\n",
        "  model.add(dense1)\n",
        "  model.add(drop1)\n",
        "  model.add(dense2)\n",
        "  model.add(drop2)\n",
        "  model.add(output)\n",
        "  \n",
        "\n",
        "  return model"
      ]
    },
    {
      "cell_type": "markdown",
      "metadata": {
        "id": "WKEAu_hNV4QR"
      },
      "source": [
        "Gdy dodany zostanie nowy model, należy dodać go jako kolejną opcję w poniższym *if-ie*."
      ]
    },
    {
      "cell_type": "code",
      "execution_count": null,
      "metadata": {
        "id": "_rK8orYmQaZ8"
      },
      "outputs": [],
      "source": [
        "def get_model(option=\"alexNet\"):\n",
        "  if option == \"alexNet\":\n",
        "    return get_alexNet()\n",
        "  elif option == \"myConv\":\n",
        "    return get_myConv()\n",
        "  else:\n",
        "    raise Exception(f\"Invalid network {option}\")"
      ]
    },
    {
      "cell_type": "markdown",
      "metadata": {
        "id": "MGwBSSK7Q-yc"
      },
      "source": [
        "## Trening"
      ]
    },
    {
      "cell_type": "markdown",
      "metadata": {
        "id": "b_KNM-YoWNt9"
      },
      "source": [
        "Uruchomienie treningu wiąże się z wywołaniem funkcji *train*. Jej zadaniem jest przeprowadzenie treningu, zapis wytrenowanego modelu i wyświetlenie statystyk.\n",
        "\n",
        "Funckję *train* można wywołać z następującymi parametrami:\n",
        "\n",
        "*   *model* (wymagany) - model który zostanie użyty w treningu, bazowo dostępne są \"myConv\" oraz \"alexNet\",\n",
        "*   *optimizer* (opcjonalnie) - optymalizator używany w procesie uczenia, dostępne \"SGD\" oraz \"ADAM\". (domyślnie SGD),\n",
        "*   *augmentation* (opcjonalnie) - augmentacja zbioru treningowego (domyślnie FALSE),\n",
        "*   *is_tpu* (opcjonalnie) - czy trening ma się odbywać w środowisku TPU (domyślnie TRUE).\n",
        "\n"
      ]
    },
    {
      "cell_type": "code",
      "execution_count": null,
      "metadata": {
        "id": "NmMdAf4dT-Q_"
      },
      "outputs": [],
      "source": [
        "def save_model(model_name, accuracy, model, augmentation):\n",
        "  accuracy = int(accuracy * 100)\n",
        "  print(f\"Saving model with accuracy: {accuracy}%\")\n",
        "  path = os.path.join(OUTPUT_PATH, f\"{model_name}_{accuracy}_aug_{augmentation}.h5\")\n",
        "  model.save(path)"
      ]
    },
    {
      "cell_type": "code",
      "execution_count": null,
      "metadata": {
        "id": "1L5CTXi0Uy8o"
      },
      "outputs": [],
      "source": [
        "def show_results(history):\n",
        "  plt.plot(history.history['accuracy'], label='accuracy')\n",
        "  plt.plot(history.history['val_accuracy'], label = 'validation accuracy')\n",
        "  plt.xlabel('Epoch')\n",
        "  plt.ylabel('Accuracy')\n",
        "  plt.ylim([0, 1])\n",
        "  plt.legend(loc='lower right')"
      ]
    },
    {
      "cell_type": "code",
      "execution_count": null,
      "metadata": {
        "id": "AP5M2FJzQ6g4"
      },
      "outputs": [],
      "source": [
        "def train(model_name, optimizer=\"SGD\", augmentation=False, is_tpu=True):\n",
        "  \"\"\" Run trainng, save model and show statistics\n",
        "\n",
        "  :param model_name: Model, options: myConv, alexNet\n",
        "  :type model_name: str\n",
        "  :param optimizer: Optimizer, options: ADAM, SGD, default: SGD\n",
        "  :type optimizer: str\n",
        "  :param augmentation: Run data augmentation, default: False\n",
        "  :type augmentation: bool\n",
        "  :param is_tpu: Run on TPU, default: True\n",
        "  :type is_tpu: bool\n",
        "  \n",
        "  \"\"\"\n",
        "\n",
        "  train_ds, test_ds, validation_ds = prepare_datasets()\n",
        "\n",
        "  if augmentation:\n",
        "    train_ds = augment_dataset(train_ds)\n",
        "\n",
        "  if optimizer == \"SGD\":\n",
        "    opt = tf.optimizers.SGD(LEARNING_RATE)\n",
        "  elif optimizer == \"ADAM\":\n",
        "    opt = tf.optimizers.Adam(LEARNING_RATE, beta_1=0.99, epsilon=1e-1)\n",
        "  else:\n",
        "    raise Exception(\"Invalid optimizer!\")\n",
        "\n",
        "  loss_func = tf.keras.losses.SparseCategoricalCrossentropy()\n",
        "\n",
        "  if is_tpu:\n",
        "    with tpu_strategy.scope():\n",
        "      model = get_model(option=model_name)\n",
        "      model.compile(loss=loss_func, optimizer=opt, metrics=['accuracy'])\n",
        "    model.summary()\n",
        "  else:\n",
        "    model = get_model(option=model_name)\n",
        "    model.compile(loss=loss_func, optimizer=opt, metrics=['accuracy'])\n",
        "    model.summary()\n",
        "\n",
        "  history = model.fit(train_ds, epochs=EPOCHS, validation_data=validation_ds)\n",
        "\n",
        "  evaluation = model.evaluate(test_ds)\n",
        "  print(f\"Model evaluation: {evaluation}\")\n",
        "\n",
        "  curr_acc = history.history[\"accuracy\"][-1]\n",
        "  save_model(model_name, curr_acc, model, augmentation)\n",
        "\n",
        "  show_results(history)\n",
        "\n",
        "  return model"
      ]
    },
    {
      "cell_type": "code",
      "execution_count": null,
      "metadata": {
        "colab": {
          "base_uri": "https://localhost:8080/",
          "height": 1000
        },
        "id": "Wh2lOCDqXabo",
        "outputId": "177465cd-3e60-4c01-d3e7-ba45f91ce75a"
      },
      "outputs": [
        {
          "name": "stdout",
          "output_type": "stream",
          "text": [
            "Model: \"MyConv\"\n",
            "_________________________________________________________________\n",
            " Layer (type)                Output Shape              Param #   \n",
            "=================================================================\n",
            " resizing_9 (Resizing)       (None, 227, 227, 3)       0         \n",
            "                                                                 \n",
            " conv1 (Conv2D)              (None, 55, 55, 96)        34944     \n",
            "                                                                 \n",
            " batch_normalization_45 (Bat  (None, 55, 55, 96)       384       \n",
            " chNormalization)                                                \n",
            "                                                                 \n",
            " pool1 (MaxPooling2D)        (None, 27, 27, 96)        0         \n",
            "                                                                 \n",
            " conv2 (Conv2D)              (None, 27, 27, 256)       614656    \n",
            "                                                                 \n",
            " batch_normalization_46 (Bat  (None, 27, 27, 256)      1024      \n",
            " chNormalization)                                                \n",
            "                                                                 \n",
            " pool2 (MaxPooling2D)        (None, 13, 13, 256)       0         \n",
            "                                                                 \n",
            " conv3 (Conv2D)              (None, 13, 13, 384)       885120    \n",
            "                                                                 \n",
            " batch_normalization_47 (Bat  (None, 13, 13, 384)      1536      \n",
            " chNormalization)                                                \n",
            "                                                                 \n",
            " conv4 (Conv2D)              (None, 13, 13, 384)       1327488   \n",
            "                                                                 \n",
            " batch_normalization_48 (Bat  (None, 13, 13, 384)      1536      \n",
            " chNormalization)                                                \n",
            "                                                                 \n",
            " conv5 (Conv2D)              (None, 13, 13, 256)       884992    \n",
            "                                                                 \n",
            " batch_normalization_49 (Bat  (None, 13, 13, 256)      1024      \n",
            " chNormalization)                                                \n",
            "                                                                 \n",
            " pool3 (MaxPooling2D)        (None, 6, 6, 256)         0         \n",
            "                                                                 \n",
            " flatten_9 (Flatten)         (None, 9216)              0         \n",
            "                                                                 \n",
            " dense_27 (Dense)            (None, 4096)              37752832  \n",
            "                                                                 \n",
            " dropout_18 (Dropout)        (None, 4096)              0         \n",
            "                                                                 \n",
            " dense_28 (Dense)            (None, 4096)              16781312  \n",
            "                                                                 \n",
            " dropout_19 (Dropout)        (None, 4096)              0         \n",
            "                                                                 \n",
            " dense_29 (Dense)            (None, 10)                40970     \n",
            "                                                                 \n",
            "=================================================================\n",
            "Total params: 58,327,818\n",
            "Trainable params: 58,325,066\n",
            "Non-trainable params: 2,752\n",
            "_________________________________________________________________\n",
            "Epoch 1/25\n",
            "1312/1312 [==============================] - 47s 32ms/step - loss: 2.2143 - accuracy: 0.3085 - val_loss: 1.4349 - val_accuracy: 0.4950\n",
            "Epoch 2/25\n",
            "1312/1312 [==============================] - 39s 30ms/step - loss: 1.6493 - accuracy: 0.4160 - val_loss: 1.3004 - val_accuracy: 0.5363\n",
            "Epoch 3/25\n",
            "1312/1312 [==============================] - 40s 30ms/step - loss: 1.4636 - accuracy: 0.4794 - val_loss: 1.1851 - val_accuracy: 0.5804\n",
            "Epoch 4/25\n",
            "1312/1312 [==============================] - 40s 31ms/step - loss: 1.3371 - accuracy: 0.5306 - val_loss: 1.1031 - val_accuracy: 0.6056\n",
            "Epoch 5/25\n",
            "1312/1312 [==============================] - 40s 30ms/step - loss: 1.2362 - accuracy: 0.5615 - val_loss: 1.0422 - val_accuracy: 0.6318\n",
            "Epoch 6/25\n",
            "1312/1312 [==============================] - 40s 30ms/step - loss: 1.1600 - accuracy: 0.5890 - val_loss: 0.9725 - val_accuracy: 0.6550\n",
            "Epoch 7/25\n",
            "1312/1312 [==============================] - 39s 30ms/step - loss: 1.0763 - accuracy: 0.6228 - val_loss: 0.9731 - val_accuracy: 0.6620\n",
            "Epoch 8/25\n",
            "1312/1312 [==============================] - 39s 30ms/step - loss: 1.0153 - accuracy: 0.6425 - val_loss: 0.8944 - val_accuracy: 0.6850\n",
            "Epoch 9/25\n",
            "1312/1312 [==============================] - 40s 30ms/step - loss: 0.9583 - accuracy: 0.6639 - val_loss: 0.8696 - val_accuracy: 0.6906\n",
            "Epoch 10/25\n",
            "1312/1312 [==============================] - 40s 30ms/step - loss: 0.9091 - accuracy: 0.6800 - val_loss: 0.8481 - val_accuracy: 0.6954\n",
            "Epoch 11/25\n",
            "1312/1312 [==============================] - 40s 31ms/step - loss: 0.8631 - accuracy: 0.6974 - val_loss: 0.8497 - val_accuracy: 0.6996\n",
            "Epoch 12/25\n",
            "1312/1312 [==============================] - 41s 31ms/step - loss: 0.8269 - accuracy: 0.7102 - val_loss: 0.7790 - val_accuracy: 0.7281\n",
            "Epoch 13/25\n",
            "1312/1312 [==============================] - 40s 31ms/step - loss: 0.7870 - accuracy: 0.7237 - val_loss: 0.7728 - val_accuracy: 0.7318\n",
            "Epoch 14/25\n",
            "1312/1312 [==============================] - 40s 30ms/step - loss: 0.7457 - accuracy: 0.7385 - val_loss: 0.7648 - val_accuracy: 0.7329\n",
            "Epoch 15/25\n",
            "1312/1312 [==============================] - 40s 30ms/step - loss: 0.7168 - accuracy: 0.7495 - val_loss: 0.7342 - val_accuracy: 0.7436\n",
            "Epoch 16/25\n",
            "1312/1312 [==============================] - 41s 31ms/step - loss: 0.6854 - accuracy: 0.7617 - val_loss: 0.7246 - val_accuracy: 0.7504\n",
            "Epoch 17/25\n",
            "1312/1312 [==============================] - 41s 31ms/step - loss: 0.6436 - accuracy: 0.7766 - val_loss: 0.7190 - val_accuracy: 0.7521\n",
            "Epoch 18/25\n",
            "1312/1312 [==============================] - 41s 31ms/step - loss: 0.6228 - accuracy: 0.7793 - val_loss: 0.6952 - val_accuracy: 0.7570\n",
            "Epoch 19/25\n",
            "1312/1312 [==============================] - 41s 31ms/step - loss: 0.5958 - accuracy: 0.7918 - val_loss: 0.6940 - val_accuracy: 0.7613\n",
            "Epoch 20/25\n",
            "1312/1312 [==============================] - 40s 30ms/step - loss: 0.5713 - accuracy: 0.7983 - val_loss: 0.6709 - val_accuracy: 0.7695\n",
            "Epoch 21/25\n",
            "1312/1312 [==============================] - 41s 31ms/step - loss: 0.5420 - accuracy: 0.8094 - val_loss: 0.6685 - val_accuracy: 0.7679\n",
            "Epoch 22/25\n",
            "1312/1312 [==============================] - 41s 31ms/step - loss: 0.5175 - accuracy: 0.8176 - val_loss: 0.6717 - val_accuracy: 0.7666\n",
            "Epoch 23/25\n",
            "1312/1312 [==============================] - 40s 31ms/step - loss: 0.4895 - accuracy: 0.8281 - val_loss: 0.6881 - val_accuracy: 0.7638\n",
            "Epoch 24/25\n",
            "1312/1312 [==============================] - 40s 31ms/step - loss: 0.4667 - accuracy: 0.8357 - val_loss: 0.6646 - val_accuracy: 0.7748\n",
            "Epoch 25/25\n",
            "1312/1312 [==============================] - 40s 30ms/step - loss: 0.4427 - accuracy: 0.8461 - val_loss: 0.6493 - val_accuracy: 0.7808\n",
            "312/312 [==============================] - 6s 15ms/step - loss: 0.6586 - accuracy: 0.7823\n",
            "Model evaluation: [0.6586139798164368, 0.7822515964508057]\n",
            "Saving model with accuracy: 0.8461318016052246\n"
          ]
        },
        {
          "data": {
            "image/png": "[encoded data removed]",
            "text/plain": [
              "<Figure size 432x288 with 1 Axes>"
            ]
          },
          "metadata": {
            "needs_background": "light"
          },
          "output_type": "display_data"
        }
      ],
      "source": [
        "model = train(\"alexNet\")"
      ]
    },
    {
      "cell_type": "markdown",
      "metadata": {
        "id": "voK7cExLuJ3w"
      },
      "source": [
        "# Testowanie wytrenowanego modelu - predykcja\n"
      ]
    },
    {
      "cell_type": "markdown",
      "metadata": {
        "id": "ZYvuqtfOXzcT"
      },
      "source": [
        "W poniższej komórce znajdują się wszystkie możliwe klasy zbioru CIFAR-10."
      ]
    },
    {
      "cell_type": "code",
      "execution_count": null,
      "metadata": {
        "id": "MuKSlf66aI57"
      },
      "outputs": [],
      "source": [
        "class_names = ['airplane', 'automobile', 'bird', 'cat', 'deer',\n",
        "               'dog', 'frog', 'horse', 'ship', 'truck']"
      ]
    },
    {
      "cell_type": "code",
      "execution_count": null,
      "metadata": {
        "id": "y2aTrnv6uQzA"
      },
      "outputs": [],
      "source": [
        "def random_img_prediction():\n",
        "  \"\"\" Make prediction on random image from test_set \"\"\"\n",
        "  index = random.randint(0, len(test_set)-1)\n",
        "  probability = model(test_set[index:index+1])\n",
        "  best = probability.numpy().max()\n",
        "  x = np.where(probability == best)\n",
        "\n",
        "  plt.title(f\"{class_names[x[1][0]]} : {best}\")\n",
        "  plt.imshow(test_set[index])"
      ]
    },
    {
      "cell_type": "code",
      "execution_count": null,
      "metadata": {
        "colab": {
          "base_uri": "https://localhost:8080/",
          "height": 281
        },
        "id": "YduMoTqI7Pbk",
        "outputId": "dfd41a6c-467b-4370-c9e5-6ff87d6edbd1"
      },
      "outputs": [
        {
          "data": {
            "image/png": "[encoded data removed]",
            "text/plain": [
              "<Figure size 432x288 with 1 Axes>"
            ]
          },
          "metadata": {
            "needs_background": "light"
          },
          "output_type": "display_data"
        }
      ],
      "source": [
        "random_img_prediction()"
      ]
    },
    {
      "cell_type": "markdown",
      "metadata": {
        "id": "xJ4CXycrWGb_"
      },
      "source": [
        "## Bibliografia"
      ]
    },
    {
      "cell_type": "markdown",
      "metadata": {
        "id": "iF-VSyZaWJjq"
      },
      "source": [
        "\n",
        "\n",
        "1.   https://towardsdatascience.com/covolutional-neural-network-cb0883dd6529\n",
        "2.   https://towardsdatascience.com/implementing-alexnet-cnn-architecture-using-tensorflow-2-0-and-keras-2113e090ad98\n"
      ]
    }
  ],
  "metadata": {
    "accelerator": "TPU",
    "colab": {
      "collapsed_sections": [],
      "name": "myconv.ipynb",
      "provenance": [],
      "toc_visible": true
    },
    "kernelspec": {
      "display_name": "Python 3",
      "name": "python3"
    },
    "language_info": {
      "name": "python"
    }
  },
  "nbformat": 4,
  "nbformat_minor": 0
}
